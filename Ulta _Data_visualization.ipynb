{
 "cells": [
  {
   "cell_type": "code",
   "execution_count": 1,
   "metadata": {},
   "outputs": [],
   "source": [
    "import pandas as pd\n",
    "import numpy as np\n",
    "from matplotlib import pyplot as plt\n",
    "import seaborn as sns\n",
    "#import matplotlib.colors as colors\n",
    "plt.style.use('ggplot')\n",
    "from matplotlib import style\n",
    "#import squarify"
   ]
  },
  {
   "cell_type": "code",
   "execution_count": 2,
   "metadata": {},
   "outputs": [
    {
     "data": {
      "text/html": [
       "<div>\n",
       "<style scoped>\n",
       "    .dataframe tbody tr th:only-of-type {\n",
       "        vertical-align: middle;\n",
       "    }\n",
       "\n",
       "    .dataframe tbody tr th {\n",
       "        vertical-align: top;\n",
       "    }\n",
       "\n",
       "    .dataframe thead th {\n",
       "        text-align: right;\n",
       "    }\n",
       "</style>\n",
       "<table border=\"1\" class=\"dataframe\">\n",
       "  <thead>\n",
       "    <tr style=\"text-align: right;\">\n",
       "      <th></th>\n",
       "      <th>brand</th>\n",
       "      <th>category</th>\n",
       "      <th>price</th>\n",
       "      <th>product</th>\n",
       "      <th>review_avg_rating</th>\n",
       "      <th>review_count</th>\n",
       "      <th>url</th>\n",
       "    </tr>\n",
       "  </thead>\n",
       "  <tbody>\n",
       "    <tr>\n",
       "      <td>0</td>\n",
       "      <td>Dermalogica</td>\n",
       "      <td>skincare</td>\n",
       "      <td>39.00</td>\n",
       "      <td>Special Cleansing Gel</td>\n",
       "      <td>4.6</td>\n",
       "      <td>2252</td>\n",
       "      <td>https://www.ulta.com/special-cleansing-gel?pro...</td>\n",
       "    </tr>\n",
       "    <tr>\n",
       "      <td>1</td>\n",
       "      <td>Sebastian</td>\n",
       "      <td>hair</td>\n",
       "      <td>40.00</td>\n",
       "      <td>Drench Conditioner</td>\n",
       "      <td>4.6</td>\n",
       "      <td>2144</td>\n",
       "      <td>https://www.ulta.com/drench-conditioner?produc...</td>\n",
       "    </tr>\n",
       "    <tr>\n",
       "      <td>2</td>\n",
       "      <td>Giorgio Armani</td>\n",
       "      <td>cologne</td>\n",
       "      <td>100.00</td>\n",
       "      <td>Acqua di Giò Absolu Eau de Parfum</td>\n",
       "      <td>4.8</td>\n",
       "      <td>1937</td>\n",
       "      <td>https://www.ulta.com/acqua-di-gio-absolu-eau-d...</td>\n",
       "    </tr>\n",
       "    <tr>\n",
       "      <td>3</td>\n",
       "      <td>Giorgio Armani</td>\n",
       "      <td>cologne</td>\n",
       "      <td>88.00</td>\n",
       "      <td>Acqua di Giò Pour Homme Eau de Toilette</td>\n",
       "      <td>4.8</td>\n",
       "      <td>1751</td>\n",
       "      <td>https://www.ulta.com/acqua-di-gio-pour-homme-e...</td>\n",
       "    </tr>\n",
       "    <tr>\n",
       "      <td>4</td>\n",
       "      <td>Giorgio Armani</td>\n",
       "      <td>cologne</td>\n",
       "      <td>79.00</td>\n",
       "      <td>Emporio Armani Stronger With You Eau de Toilette</td>\n",
       "      <td>4.7</td>\n",
       "      <td>1623</td>\n",
       "      <td>https://www.ulta.com/emporio-armani-stronger-w...</td>\n",
       "    </tr>\n",
       "    <tr>\n",
       "      <td>...</td>\n",
       "      <td>...</td>\n",
       "      <td>...</td>\n",
       "      <td>...</td>\n",
       "      <td>...</td>\n",
       "      <td>...</td>\n",
       "      <td>...</td>\n",
       "      <td>...</td>\n",
       "    </tr>\n",
       "    <tr>\n",
       "      <td>610</td>\n",
       "      <td>Triumph &amp; Disaster</td>\n",
       "      <td>shaving</td>\n",
       "      <td>13.97</td>\n",
       "      <td>Old Fashioned Shave Cream Tube</td>\n",
       "      <td>0.0</td>\n",
       "      <td>0</td>\n",
       "      <td>https://www.ulta.com/old-fashioned-shave-cream...</td>\n",
       "    </tr>\n",
       "    <tr>\n",
       "      <td>611</td>\n",
       "      <td>Triumph &amp; Disaster</td>\n",
       "      <td>skincare</td>\n",
       "      <td>28.97</td>\n",
       "      <td>Gameface Moisturiser Tube</td>\n",
       "      <td>0.0</td>\n",
       "      <td>0</td>\n",
       "      <td>https://www.ulta.com/gameface-moisturiser-tube...</td>\n",
       "    </tr>\n",
       "    <tr>\n",
       "      <td>612</td>\n",
       "      <td>Triumph &amp; Disaster</td>\n",
       "      <td>skincare</td>\n",
       "      <td>14.97</td>\n",
       "      <td>Ritual Face Cleanser</td>\n",
       "      <td>0.0</td>\n",
       "      <td>0</td>\n",
       "      <td>https://www.ulta.com/ritual-face-cleanser?prod...</td>\n",
       "    </tr>\n",
       "    <tr>\n",
       "      <td>613</td>\n",
       "      <td>Volt</td>\n",
       "      <td>shaving</td>\n",
       "      <td>28.00</td>\n",
       "      <td>Instant Beard Color</td>\n",
       "      <td>0.0</td>\n",
       "      <td>0</td>\n",
       "      <td>https://www.ulta.com/instant-beard-color?produ...</td>\n",
       "    </tr>\n",
       "    <tr>\n",
       "      <td>614</td>\n",
       "      <td>Burberry</td>\n",
       "      <td>cologne</td>\n",
       "      <td>80.00</td>\n",
       "      <td>Mr. Burberry Eau de Parfum</td>\n",
       "      <td>4.8</td>\n",
       "      <td>8</td>\n",
       "      <td>https://www.ulta.com/mr-burberry-eau-de-parfum...</td>\n",
       "    </tr>\n",
       "  </tbody>\n",
       "</table>\n",
       "<p>615 rows × 7 columns</p>\n",
       "</div>"
      ],
      "text/plain": [
       "                  brand  category   price  \\\n",
       "0           Dermalogica  skincare   39.00   \n",
       "1             Sebastian      hair   40.00   \n",
       "2        Giorgio Armani   cologne  100.00   \n",
       "3        Giorgio Armani   cologne   88.00   \n",
       "4        Giorgio Armani   cologne   79.00   \n",
       "..                  ...       ...     ...   \n",
       "610  Triumph & Disaster   shaving   13.97   \n",
       "611  Triumph & Disaster  skincare   28.97   \n",
       "612  Triumph & Disaster  skincare   14.97   \n",
       "613                Volt   shaving   28.00   \n",
       "614            Burberry   cologne   80.00   \n",
       "\n",
       "                                              product  review_avg_rating  \\\n",
       "0                               Special Cleansing Gel                4.6   \n",
       "1                                  Drench Conditioner                4.6   \n",
       "2                   Acqua di Giò Absolu Eau de Parfum                4.8   \n",
       "3             Acqua di Giò Pour Homme Eau de Toilette                4.8   \n",
       "4    Emporio Armani Stronger With You Eau de Toilette                4.7   \n",
       "..                                                ...                ...   \n",
       "610                    Old Fashioned Shave Cream Tube                0.0   \n",
       "611                         Gameface Moisturiser Tube                0.0   \n",
       "612                              Ritual Face Cleanser                0.0   \n",
       "613                               Instant Beard Color                0.0   \n",
       "614                        Mr. Burberry Eau de Parfum                4.8   \n",
       "\n",
       "     review_count                                                url  \n",
       "0            2252  https://www.ulta.com/special-cleansing-gel?pro...  \n",
       "1            2144  https://www.ulta.com/drench-conditioner?produc...  \n",
       "2            1937  https://www.ulta.com/acqua-di-gio-absolu-eau-d...  \n",
       "3            1751  https://www.ulta.com/acqua-di-gio-pour-homme-e...  \n",
       "4            1623  https://www.ulta.com/emporio-armani-stronger-w...  \n",
       "..            ...                                                ...  \n",
       "610             0  https://www.ulta.com/old-fashioned-shave-cream...  \n",
       "611             0  https://www.ulta.com/gameface-moisturiser-tube...  \n",
       "612             0  https://www.ulta.com/ritual-face-cleanser?prod...  \n",
       "613             0  https://www.ulta.com/instant-beard-color?produ...  \n",
       "614             8  https://www.ulta.com/mr-burberry-eau-de-parfum...  \n",
       "\n",
       "[615 rows x 7 columns]"
      ]
     },
     "execution_count": 2,
     "metadata": {},
     "output_type": "execute_result"
    }
   ],
   "source": [
    "df =pd.read_csv(r'C:\\Users\\nilli\\ulta2.csv')\n",
    "df"
   ]
  },
  {
   "cell_type": "code",
   "execution_count": 3,
   "metadata": {},
   "outputs": [
    {
     "data": {
      "text/plain": [
       "['brand',\n",
       " 'category',\n",
       " 'price',\n",
       " 'product',\n",
       " 'review_avg_rating',\n",
       " 'review_count',\n",
       " 'url']"
      ]
     },
     "execution_count": 3,
     "metadata": {},
     "output_type": "execute_result"
    }
   ],
   "source": [
    "df.columns.tolist()"
   ]
  },
  {
   "cell_type": "code",
   "execution_count": 4,
   "metadata": {},
   "outputs": [
    {
     "data": {
      "text/plain": [
       "(615, 7)"
      ]
     },
     "execution_count": 4,
     "metadata": {},
     "output_type": "execute_result"
    }
   ],
   "source": [
    "df.shape\n"
   ]
  },
  {
   "cell_type": "code",
   "execution_count": 5,
   "metadata": {},
   "outputs": [
    {
     "data": {
      "text/html": [
       "<div>\n",
       "<style scoped>\n",
       "    .dataframe tbody tr th:only-of-type {\n",
       "        vertical-align: middle;\n",
       "    }\n",
       "\n",
       "    .dataframe tbody tr th {\n",
       "        vertical-align: top;\n",
       "    }\n",
       "\n",
       "    .dataframe thead th {\n",
       "        text-align: right;\n",
       "    }\n",
       "</style>\n",
       "<table border=\"1\" class=\"dataframe\">\n",
       "  <thead>\n",
       "    <tr style=\"text-align: right;\">\n",
       "      <th></th>\n",
       "      <th>price</th>\n",
       "      <th>review_avg_rating</th>\n",
       "      <th>review_count</th>\n",
       "    </tr>\n",
       "  </thead>\n",
       "  <tbody>\n",
       "    <tr>\n",
       "      <td>count</td>\n",
       "      <td>615.000000</td>\n",
       "      <td>615.000000</td>\n",
       "      <td>615.000000</td>\n",
       "    </tr>\n",
       "    <tr>\n",
       "      <td>mean</td>\n",
       "      <td>34.329675</td>\n",
       "      <td>3.904325</td>\n",
       "      <td>83.191870</td>\n",
       "    </tr>\n",
       "    <tr>\n",
       "      <td>std</td>\n",
       "      <td>27.942195</td>\n",
       "      <td>1.618499</td>\n",
       "      <td>232.423002</td>\n",
       "    </tr>\n",
       "    <tr>\n",
       "      <td>min</td>\n",
       "      <td>0.750000</td>\n",
       "      <td>0.000000</td>\n",
       "      <td>0.000000</td>\n",
       "    </tr>\n",
       "    <tr>\n",
       "      <td>25%</td>\n",
       "      <td>16.000000</td>\n",
       "      <td>4.000000</td>\n",
       "      <td>2.000000</td>\n",
       "    </tr>\n",
       "    <tr>\n",
       "      <td>50%</td>\n",
       "      <td>22.990000</td>\n",
       "      <td>4.600000</td>\n",
       "      <td>10.000000</td>\n",
       "    </tr>\n",
       "    <tr>\n",
       "      <td>75%</td>\n",
       "      <td>41.595000</td>\n",
       "      <td>4.800000</td>\n",
       "      <td>61.500000</td>\n",
       "    </tr>\n",
       "    <tr>\n",
       "      <td>max</td>\n",
       "      <td>120.000000</td>\n",
       "      <td>5.000000</td>\n",
       "      <td>2252.000000</td>\n",
       "    </tr>\n",
       "  </tbody>\n",
       "</table>\n",
       "</div>"
      ],
      "text/plain": [
       "            price  review_avg_rating  review_count\n",
       "count  615.000000         615.000000    615.000000\n",
       "mean    34.329675           3.904325     83.191870\n",
       "std     27.942195           1.618499    232.423002\n",
       "min      0.750000           0.000000      0.000000\n",
       "25%     16.000000           4.000000      2.000000\n",
       "50%     22.990000           4.600000     10.000000\n",
       "75%     41.595000           4.800000     61.500000\n",
       "max    120.000000           5.000000   2252.000000"
      ]
     },
     "execution_count": 5,
     "metadata": {},
     "output_type": "execute_result"
    }
   ],
   "source": [
    "df.describe()"
   ]
  },
  {
   "cell_type": "code",
   "execution_count": 6,
   "metadata": {},
   "outputs": [
    {
     "data": {
      "text/plain": [
       "brand                 object\n",
       "category              object\n",
       "price                float64\n",
       "product               object\n",
       "review_avg_rating    float64\n",
       "review_count           int64\n",
       "url                   object\n",
       "dtype: object"
      ]
     },
     "execution_count": 6,
     "metadata": {},
     "output_type": "execute_result"
    }
   ],
   "source": [
    "df.dtypes"
   ]
  },
  {
   "cell_type": "code",
   "execution_count": 7,
   "metadata": {},
   "outputs": [
    {
     "data": {
      "text/plain": [
       "87"
      ]
     },
     "execution_count": 7,
     "metadata": {},
     "output_type": "execute_result"
    }
   ],
   "source": [
    "df['brand'].nunique()"
   ]
  },
  {
   "cell_type": "code",
   "execution_count": 8,
   "metadata": {},
   "outputs": [
    {
     "data": {
      "text/plain": [
       "603"
      ]
     },
     "execution_count": 8,
     "metadata": {},
     "output_type": "execute_result"
    }
   ],
   "source": [
    "df['product'].nunique()"
   ]
  },
  {
   "cell_type": "code",
   "execution_count": 9,
   "metadata": {},
   "outputs": [],
   "source": [
    "#df.nunique"
   ]
  },
  {
   "cell_type": "code",
   "execution_count": 10,
   "metadata": {},
   "outputs": [],
   "source": [
    "# df2 = df.copy\n",
    "# df2"
   ]
  },
  {
   "cell_type": "code",
   "execution_count": 11,
   "metadata": {},
   "outputs": [
    {
     "data": {
      "text/html": [
       "<div>\n",
       "<style scoped>\n",
       "    .dataframe tbody tr th:only-of-type {\n",
       "        vertical-align: middle;\n",
       "    }\n",
       "\n",
       "    .dataframe tbody tr th {\n",
       "        vertical-align: top;\n",
       "    }\n",
       "\n",
       "    .dataframe thead th {\n",
       "        text-align: right;\n",
       "    }\n",
       "</style>\n",
       "<table border=\"1\" class=\"dataframe\">\n",
       "  <thead>\n",
       "    <tr style=\"text-align: right;\">\n",
       "      <th></th>\n",
       "      <th>price</th>\n",
       "      <th>review_avg_rating</th>\n",
       "      <th>review_count</th>\n",
       "    </tr>\n",
       "    <tr>\n",
       "      <th>brand</th>\n",
       "      <th></th>\n",
       "      <th></th>\n",
       "      <th></th>\n",
       "    </tr>\n",
       "  </thead>\n",
       "  <tbody>\n",
       "    <tr>\n",
       "      <td>18.21 Man Made</td>\n",
       "      <td>28.625000</td>\n",
       "      <td>3.062500</td>\n",
       "      <td>3.500000</td>\n",
       "    </tr>\n",
       "    <tr>\n",
       "      <td>Ahava</td>\n",
       "      <td>31.200000</td>\n",
       "      <td>4.780000</td>\n",
       "      <td>11.600000</td>\n",
       "    </tr>\n",
       "    <tr>\n",
       "      <td>American Crew</td>\n",
       "      <td>17.526571</td>\n",
       "      <td>3.985714</td>\n",
       "      <td>24.028571</td>\n",
       "    </tr>\n",
       "    <tr>\n",
       "      <td>Aquaphor</td>\n",
       "      <td>10.240000</td>\n",
       "      <td>4.350000</td>\n",
       "      <td>62.000000</td>\n",
       "    </tr>\n",
       "    <tr>\n",
       "      <td>Aramis</td>\n",
       "      <td>28.000000</td>\n",
       "      <td>4.000000</td>\n",
       "      <td>9.000000</td>\n",
       "    </tr>\n",
       "    <tr>\n",
       "      <td>...</td>\n",
       "      <td>...</td>\n",
       "      <td>...</td>\n",
       "      <td>...</td>\n",
       "    </tr>\n",
       "    <tr>\n",
       "      <td>Viviscal</td>\n",
       "      <td>44.990000</td>\n",
       "      <td>3.700000</td>\n",
       "      <td>3.000000</td>\n",
       "    </tr>\n",
       "    <tr>\n",
       "      <td>Volt</td>\n",
       "      <td>28.000000</td>\n",
       "      <td>0.000000</td>\n",
       "      <td>0.000000</td>\n",
       "    </tr>\n",
       "    <tr>\n",
       "      <td>Wahl</td>\n",
       "      <td>59.990000</td>\n",
       "      <td>3.000000</td>\n",
       "      <td>2.000000</td>\n",
       "    </tr>\n",
       "    <tr>\n",
       "      <td>Yes to</td>\n",
       "      <td>2.990000</td>\n",
       "      <td>3.700000</td>\n",
       "      <td>3.000000</td>\n",
       "    </tr>\n",
       "    <tr>\n",
       "      <td>Yves Saint Laurent</td>\n",
       "      <td>89.200000</td>\n",
       "      <td>4.820000</td>\n",
       "      <td>63.200000</td>\n",
       "    </tr>\n",
       "  </tbody>\n",
       "</table>\n",
       "<p>87 rows × 3 columns</p>\n",
       "</div>"
      ],
      "text/plain": [
       "                        price  review_avg_rating  review_count\n",
       "brand                                                         \n",
       "18.21 Man Made      28.625000           3.062500      3.500000\n",
       "Ahava               31.200000           4.780000     11.600000\n",
       "American Crew       17.526571           3.985714     24.028571\n",
       "Aquaphor            10.240000           4.350000     62.000000\n",
       "Aramis              28.000000           4.000000      9.000000\n",
       "...                       ...                ...           ...\n",
       "Viviscal            44.990000           3.700000      3.000000\n",
       "Volt                28.000000           0.000000      0.000000\n",
       "Wahl                59.990000           3.000000      2.000000\n",
       "Yes to               2.990000           3.700000      3.000000\n",
       "Yves Saint Laurent  89.200000           4.820000     63.200000\n",
       "\n",
       "[87 rows x 3 columns]"
      ]
     },
     "execution_count": 11,
     "metadata": {},
     "output_type": "execute_result"
    }
   ],
   "source": [
    "df3 =df.groupby('brand').agg('mean')\n",
    "df3"
   ]
  },
  {
   "cell_type": "code",
   "execution_count": 12,
   "metadata": {},
   "outputs": [
    {
     "data": {
      "text/plain": [
       "<matplotlib.collections.PathCollection at 0x2025648d4c8>"
      ]
     },
     "execution_count": 12,
     "metadata": {},
     "output_type": "execute_result"
    },
    {
     "data": {
      "image/png": "[encoded data removed]",
      "text/plain": [
       "<Figure size 432x288 with 1 Axes>"
      ]
     },
     "metadata": {
      "needs_background": "light"
     },
     "output_type": "display_data"
    }
   ],
   "source": [
    "plt.scatter(df3['price'], df3['review_count'])"
   ]
  },
  {
   "cell_type": "code",
   "execution_count": 13,
   "metadata": {},
   "outputs": [
    {
     "data": {
      "text/plain": [
       "<matplotlib.collections.PathCollection at 0x20256542108>"
      ]
     },
     "execution_count": 13,
     "metadata": {},
     "output_type": "execute_result"
    },
    {
     "data": {
      "image/png": "[encoded data removed]",
      "text/plain": [
       "<Figure size 432x288 with 1 Axes>"
      ]
     },
     "metadata": {
      "needs_background": "light"
     },
     "output_type": "display_data"
    }
   ],
   "source": [
    "plt.scatter(df3['price'], df3['review_avg_rating'])"
   ]
  },
  {
   "cell_type": "code",
   "execution_count": 14,
   "metadata": {},
   "outputs": [
    {
     "data": {
      "text/plain": [
       "category\n",
       "hair        170\n",
       "cologne     132\n",
       "shaving     127\n",
       "skincare    109\n",
       "body         77\n",
       "Name: review_count, dtype: int64"
      ]
     },
     "execution_count": 14,
     "metadata": {},
     "output_type": "execute_result"
    }
   ],
   "source": [
    "df.groupby('category')['review_count'].count().sort_values(ascending= False)#.plot(color ='#000080')\n",
    "\n"
   ]
  },
  {
   "cell_type": "code",
   "execution_count": 15,
   "metadata": {},
   "outputs": [
    {
     "data": {
      "text/plain": [
       "Text(0, 0.5, 'Count of Reviews Counted')"
      ]
     },
     "execution_count": 15,
     "metadata": {},
     "output_type": "execute_result"
    },
    {
     "data": {
      "image/png": "[encoded data removed]",
      "text/plain": [
       "<Figure size 432x288 with 1 Axes>"
      ]
     },
     "metadata": {
      "needs_background": "light"
     },
     "output_type": "display_data"
    }
   ],
   "source": [
    "#plt.figure(figsize=(12,8))\n",
    "df.groupby('category')['review_count'].count().sort_values(ascending= False).plot.bar(color ='#000080')\n",
    "plt.title('Most Reviewed Categories')\n",
    "plt.ylabel('Count of Reviews Counted')\n"
   ]
  },
  {
   "cell_type": "code",
   "execution_count": 16,
   "metadata": {},
   "outputs": [],
   "source": [
    "#plt.savefig('a.pdf')\n",
    "\n",
    "#plt.savefig()"
   ]
  },
  {
   "cell_type": "code",
   "execution_count": 17,
   "metadata": {},
   "outputs": [
    {
     "data": {
      "text/plain": [
       "<matplotlib.axes._subplots.AxesSubplot at 0x202565fa3c8>"
      ]
     },
     "execution_count": 17,
     "metadata": {},
     "output_type": "execute_result"
    },
    {
     "data": {
      "image/png": "[encoded data removed]",
      "text/plain": [
       "<Figure size 432x288 with 1 Axes>"
      ]
     },
     "metadata": {
      "needs_background": "light"
     },
     "output_type": "display_data"
    }
   ],
   "source": [
    "df.groupby('brand')['review_count'].count().sort_values(ascending= False).head(10).plot.bar(color ='#000080')"
   ]
  },
  {
   "cell_type": "code",
   "execution_count": 18,
   "metadata": {},
   "outputs": [
    {
     "data": {
      "text/html": [
       "<div>\n",
       "<style scoped>\n",
       "    .dataframe tbody tr th:only-of-type {\n",
       "        vertical-align: middle;\n",
       "    }\n",
       "\n",
       "    .dataframe tbody tr th {\n",
       "        vertical-align: top;\n",
       "    }\n",
       "\n",
       "    .dataframe thead th {\n",
       "        text-align: right;\n",
       "    }\n",
       "</style>\n",
       "<table border=\"1\" class=\"dataframe\">\n",
       "  <thead>\n",
       "    <tr style=\"text-align: right;\">\n",
       "      <th></th>\n",
       "      <th>category</th>\n",
       "      <th>brand</th>\n",
       "      <th>review_count</th>\n",
       "    </tr>\n",
       "  </thead>\n",
       "  <tbody>\n",
       "    <tr>\n",
       "      <td>0</td>\n",
       "      <td>skincare</td>\n",
       "      <td>Dermalogica</td>\n",
       "      <td>2252</td>\n",
       "    </tr>\n",
       "    <tr>\n",
       "      <td>1</td>\n",
       "      <td>hair</td>\n",
       "      <td>Sebastian</td>\n",
       "      <td>2144</td>\n",
       "    </tr>\n",
       "    <tr>\n",
       "      <td>2</td>\n",
       "      <td>cologne</td>\n",
       "      <td>Giorgio Armani</td>\n",
       "      <td>1937</td>\n",
       "    </tr>\n",
       "    <tr>\n",
       "      <td>3</td>\n",
       "      <td>cologne</td>\n",
       "      <td>Giorgio Armani</td>\n",
       "      <td>1751</td>\n",
       "    </tr>\n",
       "    <tr>\n",
       "      <td>4</td>\n",
       "      <td>cologne</td>\n",
       "      <td>Giorgio Armani</td>\n",
       "      <td>1623</td>\n",
       "    </tr>\n",
       "  </tbody>\n",
       "</table>\n",
       "</div>"
      ],
      "text/plain": [
       "   category           brand  review_count\n",
       "0  skincare     Dermalogica          2252\n",
       "1      hair       Sebastian          2144\n",
       "2   cologne  Giorgio Armani          1937\n",
       "3   cologne  Giorgio Armani          1751\n",
       "4   cologne  Giorgio Armani          1623"
      ]
     },
     "execution_count": 18,
     "metadata": {},
     "output_type": "execute_result"
    }
   ],
   "source": [
    "#df['review_count'].sort_values(ascending= False)#head(10).plot.bar(color ='#000080')\n",
    "df[['category','brand','review_count']].sort_values(by=['review_count'],ascending= False).head(5)"
   ]
  },
  {
   "cell_type": "code",
   "execution_count": 19,
   "metadata": {},
   "outputs": [
    {
     "data": {
      "text/html": [
       "<div>\n",
       "<style scoped>\n",
       "    .dataframe tbody tr th:only-of-type {\n",
       "        vertical-align: middle;\n",
       "    }\n",
       "\n",
       "    .dataframe tbody tr th {\n",
       "        vertical-align: top;\n",
       "    }\n",
       "\n",
       "    .dataframe thead th {\n",
       "        text-align: right;\n",
       "    }\n",
       "</style>\n",
       "<table border=\"1\" class=\"dataframe\">\n",
       "  <thead>\n",
       "    <tr style=\"text-align: right;\">\n",
       "      <th></th>\n",
       "      <th>category</th>\n",
       "      <th>product</th>\n",
       "      <th>review_count</th>\n",
       "    </tr>\n",
       "  </thead>\n",
       "  <tbody>\n",
       "    <tr>\n",
       "      <td>0</td>\n",
       "      <td>skincare</td>\n",
       "      <td>Special Cleansing Gel</td>\n",
       "      <td>2252</td>\n",
       "    </tr>\n",
       "    <tr>\n",
       "      <td>8</td>\n",
       "      <td>skincare</td>\n",
       "      <td>Active Moist</td>\n",
       "      <td>970</td>\n",
       "    </tr>\n",
       "    <tr>\n",
       "      <td>13</td>\n",
       "      <td>skincare</td>\n",
       "      <td>Clarifying Cleanser</td>\n",
       "      <td>777</td>\n",
       "    </tr>\n",
       "    <tr>\n",
       "      <td>18</td>\n",
       "      <td>skincare</td>\n",
       "      <td>Intense Therapy Lip Balm SPF 25</td>\n",
       "      <td>711</td>\n",
       "    </tr>\n",
       "    <tr>\n",
       "      <td>21</td>\n",
       "      <td>skincare</td>\n",
       "      <td>Acne Solutions Cleansing Bar for Face &amp; Body</td>\n",
       "      <td>535</td>\n",
       "    </tr>\n",
       "  </tbody>\n",
       "</table>\n",
       "</div>"
      ],
      "text/plain": [
       "    category                                       product  review_count\n",
       "0   skincare                         Special Cleansing Gel          2252\n",
       "8   skincare                                  Active Moist           970\n",
       "13  skincare                           Clarifying Cleanser           777\n",
       "18  skincare               Intense Therapy Lip Balm SPF 25           711\n",
       "21  skincare  Acne Solutions Cleansing Bar for Face & Body           535"
      ]
     },
     "execution_count": 19,
     "metadata": {},
     "output_type": "execute_result"
    }
   ],
   "source": [
    "df[['category','product','review_count']].sort_values(by=['category','review_count'],ascending= False).head(5)#.plot.bar(color ='#000080')"
   ]
  },
  {
   "cell_type": "code",
   "execution_count": 20,
   "metadata": {},
   "outputs": [
    {
     "data": {
      "text/html": [
       "<div>\n",
       "<style scoped>\n",
       "    .dataframe tbody tr th:only-of-type {\n",
       "        vertical-align: middle;\n",
       "    }\n",
       "\n",
       "    .dataframe tbody tr th {\n",
       "        vertical-align: top;\n",
       "    }\n",
       "\n",
       "    .dataframe thead th {\n",
       "        text-align: right;\n",
       "    }\n",
       "</style>\n",
       "<table border=\"1\" class=\"dataframe\">\n",
       "  <thead>\n",
       "    <tr style=\"text-align: right;\">\n",
       "      <th></th>\n",
       "      <th>category</th>\n",
       "      <th>brand</th>\n",
       "      <th>product</th>\n",
       "      <th>review_count</th>\n",
       "    </tr>\n",
       "  </thead>\n",
       "  <tbody>\n",
       "    <tr>\n",
       "      <td>0</td>\n",
       "      <td>skincare</td>\n",
       "      <td>Dermalogica</td>\n",
       "      <td>Special Cleansing Gel</td>\n",
       "      <td>2252</td>\n",
       "    </tr>\n",
       "    <tr>\n",
       "      <td>1</td>\n",
       "      <td>hair</td>\n",
       "      <td>Sebastian</td>\n",
       "      <td>Drench Conditioner</td>\n",
       "      <td>2144</td>\n",
       "    </tr>\n",
       "    <tr>\n",
       "      <td>2</td>\n",
       "      <td>cologne</td>\n",
       "      <td>Giorgio Armani</td>\n",
       "      <td>Acqua di Giò Absolu Eau de Parfum</td>\n",
       "      <td>1937</td>\n",
       "    </tr>\n",
       "    <tr>\n",
       "      <td>3</td>\n",
       "      <td>cologne</td>\n",
       "      <td>Giorgio Armani</td>\n",
       "      <td>Acqua di Giò Pour Homme Eau de Toilette</td>\n",
       "      <td>1751</td>\n",
       "    </tr>\n",
       "    <tr>\n",
       "      <td>4</td>\n",
       "      <td>cologne</td>\n",
       "      <td>Giorgio Armani</td>\n",
       "      <td>Emporio Armani Stronger With You Eau de Toilette</td>\n",
       "      <td>1623</td>\n",
       "    </tr>\n",
       "  </tbody>\n",
       "</table>\n",
       "</div>"
      ],
      "text/plain": [
       "   category           brand                                           product  \\\n",
       "0  skincare     Dermalogica                             Special Cleansing Gel   \n",
       "1      hair       Sebastian                                Drench Conditioner   \n",
       "2   cologne  Giorgio Armani                 Acqua di Giò Absolu Eau de Parfum   \n",
       "3   cologne  Giorgio Armani           Acqua di Giò Pour Homme Eau de Toilette   \n",
       "4   cologne  Giorgio Armani  Emporio Armani Stronger With You Eau de Toilette   \n",
       "\n",
       "   review_count  \n",
       "0          2252  \n",
       "1          2144  \n",
       "2          1937  \n",
       "3          1751  \n",
       "4          1623  "
      ]
     },
     "execution_count": 20,
     "metadata": {},
     "output_type": "execute_result"
    }
   ],
   "source": [
    "dfbrc =df[['category','brand','product','review_count']].sort_values(by=['review_count','brand'],ascending= False).head(5)\n",
    "dfbrc"
   ]
  },
  {
   "cell_type": "code",
   "execution_count": 21,
   "metadata": {},
   "outputs": [
    {
     "data": {
      "text/plain": [
       "<matplotlib.axes._subplots.AxesSubplot at 0x202565e3d88>"
      ]
     },
     "execution_count": 21,
     "metadata": {},
     "output_type": "execute_result"
    },
    {
     "data": {
      "text/plain": [
       "<Figure size 1440x720 with 0 Axes>"
      ]
     },
     "metadata": {},
     "output_type": "display_data"
    },
    {
     "data": {
      "image/png": "[encoded data removed]",
      "text/plain": [
       "<Figure size 432x288 with 1 Axes>"
      ]
     },
     "metadata": {
      "needs_background": "light"
     },
     "output_type": "display_data"
    }
   ],
   "source": [
    "plt.figure(figsize=(20,10))\n",
    "dfbrc.plot.bar(x='product', y ='review_count', title = 'Most Reviewed products')"
   ]
  },
  {
   "cell_type": "code",
   "execution_count": 22,
   "metadata": {},
   "outputs": [
    {
     "data": {
      "text/plain": [
       "[Text(0, 0, 'Special Cleansing Gel'),\n",
       " Text(0, 0, 'Drench Conditioner'),\n",
       " Text(0, 0, 'Acqua di Giò Absolu Eau de Parfum'),\n",
       " Text(0, 0, 'Acqua di Giò Pour Homme Eau de Toilette'),\n",
       " Text(0, 0, 'Emporio Armani Stronger With You Eau de Toilette')]"
      ]
     },
     "execution_count": 22,
     "metadata": {},
     "output_type": "execute_result"
    },
    {
     "data": {
      "image/png": "[encoded data removed]",
      "text/plain": [
       "<Figure size 864x288 with 1 Axes>"
      ]
     },
     "metadata": {
      "needs_background": "light"
     },
     "output_type": "display_data"
    }
   ],
   "source": [
    "plt.figure(figsize=(12,4))\n",
    "dfbrcchart= sns.barplot(x=\"product\",\n",
    "y=\"review_count\",\n",
    "            hue=\"brand\",\n",
    "data=dfbrc, dodge = False)\n",
    "plt.title('Most Reviewed Products\\n (all categories)')\n",
    "\n",
    "dfbrcchart\n",
    "dfbrcchart.set_xticklabels(dfbrcchart.get_xticklabels(), rotation=55)"
   ]
  },
  {
   "cell_type": "code",
   "execution_count": 23,
   "metadata": {},
   "outputs": [
    {
     "data": {
      "text/plain": [
       "[Text(0, 0, 'Dermalogica'),\n",
       " Text(0, 0, 'Sebastian'),\n",
       " Text(0, 0, 'Giorgio Armani')]"
      ]
     },
     "execution_count": 23,
     "metadata": {},
     "output_type": "execute_result"
    },
    {
     "data": {
      "image/png": "[encoded data removed]",
      "text/plain": [
       "<Figure size 864x288 with 1 Axes>"
      ]
     },
     "metadata": {
      "needs_background": "light"
     },
     "output_type": "display_data"
    }
   ],
   "source": [
    "plt.figure(figsize=(12,4))\n",
    "dfbrcchart= sns.barplot(x=\"brand\",\n",
    "y=\"review_count\",\n",
    "            hue=\"category\",\n",
    "data=dfbrc, dodge = False)\n",
    "plt.title('Most Reviewed brand')\n",
    "\n",
    "dfbrcchart\n",
    "dfbrcchart.set_xticklabels(dfbrcchart.get_xticklabels(), rotation=55)"
   ]
  },
  {
   "cell_type": "code",
   "execution_count": 24,
   "metadata": {
    "scrolled": true
   },
   "outputs": [
    {
     "data": {
      "text/html": [
       "<div>\n",
       "<style scoped>\n",
       "    .dataframe tbody tr th:only-of-type {\n",
       "        vertical-align: middle;\n",
       "    }\n",
       "\n",
       "    .dataframe tbody tr th {\n",
       "        vertical-align: top;\n",
       "    }\n",
       "\n",
       "    .dataframe thead th {\n",
       "        text-align: right;\n",
       "    }\n",
       "</style>\n",
       "<table border=\"1\" class=\"dataframe\">\n",
       "  <thead>\n",
       "    <tr style=\"text-align: right;\">\n",
       "      <th></th>\n",
       "      <th>category</th>\n",
       "      <th>product</th>\n",
       "      <th>review_count</th>\n",
       "    </tr>\n",
       "  </thead>\n",
       "  <tbody>\n",
       "    <tr>\n",
       "      <td>0</td>\n",
       "      <td>skincare</td>\n",
       "      <td>Special Cleansing Gel</td>\n",
       "      <td>2252</td>\n",
       "    </tr>\n",
       "    <tr>\n",
       "      <td>8</td>\n",
       "      <td>skincare</td>\n",
       "      <td>Active Moist</td>\n",
       "      <td>970</td>\n",
       "    </tr>\n",
       "    <tr>\n",
       "      <td>13</td>\n",
       "      <td>skincare</td>\n",
       "      <td>Clarifying Cleanser</td>\n",
       "      <td>777</td>\n",
       "    </tr>\n",
       "    <tr>\n",
       "      <td>18</td>\n",
       "      <td>skincare</td>\n",
       "      <td>Intense Therapy Lip Balm SPF 25</td>\n",
       "      <td>711</td>\n",
       "    </tr>\n",
       "    <tr>\n",
       "      <td>21</td>\n",
       "      <td>skincare</td>\n",
       "      <td>Acne Solutions Cleansing Bar for Face &amp; Body</td>\n",
       "      <td>535</td>\n",
       "    </tr>\n",
       "    <tr>\n",
       "      <td>...</td>\n",
       "      <td>...</td>\n",
       "      <td>...</td>\n",
       "      <td>...</td>\n",
       "    </tr>\n",
       "    <tr>\n",
       "      <td>559</td>\n",
       "      <td>body</td>\n",
       "      <td>Skin Clearing Acne Defense Body Wash</td>\n",
       "      <td>0</td>\n",
       "    </tr>\n",
       "    <tr>\n",
       "      <td>560</td>\n",
       "      <td>body</td>\n",
       "      <td>Sandalwood Body Value Kit</td>\n",
       "      <td>0</td>\n",
       "    </tr>\n",
       "    <tr>\n",
       "      <td>561</td>\n",
       "      <td>body</td>\n",
       "      <td>Cedarwood Body Value Kit</td>\n",
       "      <td>0</td>\n",
       "    </tr>\n",
       "    <tr>\n",
       "      <td>566</td>\n",
       "      <td>body</td>\n",
       "      <td>Cedarwood Body Bar with Shea Butter</td>\n",
       "      <td>0</td>\n",
       "    </tr>\n",
       "    <tr>\n",
       "      <td>570</td>\n",
       "      <td>body</td>\n",
       "      <td>MAN Deodorant Stick</td>\n",
       "      <td>0</td>\n",
       "    </tr>\n",
       "  </tbody>\n",
       "</table>\n",
       "<p>615 rows × 3 columns</p>\n",
       "</div>"
      ],
      "text/plain": [
       "     category                                       product  review_count\n",
       "0    skincare                         Special Cleansing Gel          2252\n",
       "8    skincare                                  Active Moist           970\n",
       "13   skincare                           Clarifying Cleanser           777\n",
       "18   skincare               Intense Therapy Lip Balm SPF 25           711\n",
       "21   skincare  Acne Solutions Cleansing Bar for Face & Body           535\n",
       "..        ...                                           ...           ...\n",
       "559     body           Skin Clearing Acne Defense Body Wash             0\n",
       "560     body                      Sandalwood Body Value Kit             0\n",
       "561     body                       Cedarwood Body Value Kit             0\n",
       "566     body            Cedarwood Body Bar with Shea Butter             0\n",
       "570     body                            MAN Deodorant Stick             0\n",
       "\n",
       "[615 rows x 3 columns]"
      ]
     },
     "execution_count": 24,
     "metadata": {},
     "output_type": "execute_result"
    }
   ],
   "source": [
    "df1 =df[['category','product','review_count']].sort_values(by=['category','review_count'],ascending= False)\n",
    "df1"
   ]
  },
  {
   "cell_type": "code",
   "execution_count": 25,
   "metadata": {},
   "outputs": [
    {
     "data": {
      "text/plain": [
       "<matplotlib.axes._subplots.AxesSubplot at 0x202569d5108>"
      ]
     },
     "execution_count": 25,
     "metadata": {},
     "output_type": "execute_result"
    },
    {
     "data": {
      "text/plain": [
       "<Figure size 1152x576 with 0 Axes>"
      ]
     },
     "metadata": {},
     "output_type": "display_data"
    },
    {
     "data": {
      "image/png": "[encoded data removed]",
      "text/plain": [
       "<Figure size 432x288 with 1 Axes>"
      ]
     },
     "metadata": {
      "needs_background": "light"
     },
     "output_type": "display_data"
    }
   ],
   "source": [
    "plt.figure(figsize=(16,8))\n",
    "df1.head(10).plot.bar(color ='#000080')\n",
    "\n",
    "#plt.title('top 10 skincare product by reviews count')\n",
    "#plt\n"
   ]
  },
  {
   "cell_type": "code",
   "execution_count": 50,
   "metadata": {},
   "outputs": [
    {
     "data": {
      "text/plain": [
       "<Figure size 1152x576 with 0 Axes>"
      ]
     },
     "execution_count": 50,
     "metadata": {},
     "output_type": "execute_result"
    },
    {
     "data": {
      "image/png": "[encoded data removed]",
      "text/plain": [
       "<Figure size 432x288 with 1 Axes>"
      ]
     },
     "metadata": {
      "needs_background": "light"
     },
     "output_type": "display_data"
    },
    {
     "data": {
      "text/plain": [
       "<Figure size 1152x576 with 0 Axes>"
      ]
     },
     "metadata": {},
     "output_type": "display_data"
    }
   ],
   "source": [
    "\n"
   ]
  },
  {
   "cell_type": "code",
   "execution_count": 34,
   "metadata": {},
   "outputs": [
    {
     "data": {
      "text/html": [
       "<div>\n",
       "<style scoped>\n",
       "    .dataframe tbody tr th:only-of-type {\n",
       "        vertical-align: middle;\n",
       "    }\n",
       "\n",
       "    .dataframe tbody tr th {\n",
       "        vertical-align: top;\n",
       "    }\n",
       "\n",
       "    .dataframe thead th {\n",
       "        text-align: right;\n",
       "    }\n",
       "</style>\n",
       "<table border=\"1\" class=\"dataframe\">\n",
       "  <thead>\n",
       "    <tr style=\"text-align: right;\">\n",
       "      <th></th>\n",
       "      <th>category</th>\n",
       "      <th>product</th>\n",
       "      <th>price</th>\n",
       "      <th>review_count</th>\n",
       "    </tr>\n",
       "  </thead>\n",
       "  <tbody>\n",
       "    <tr>\n",
       "      <td>0</td>\n",
       "      <td>skincare</td>\n",
       "      <td>Special Cleansing Gel</td>\n",
       "      <td>39.00</td>\n",
       "      <td>2252</td>\n",
       "    </tr>\n",
       "    <tr>\n",
       "      <td>1</td>\n",
       "      <td>hair</td>\n",
       "      <td>Drench Conditioner</td>\n",
       "      <td>40.00</td>\n",
       "      <td>2144</td>\n",
       "    </tr>\n",
       "    <tr>\n",
       "      <td>2</td>\n",
       "      <td>cologne</td>\n",
       "      <td>Acqua di Giò Absolu Eau de Parfum</td>\n",
       "      <td>100.00</td>\n",
       "      <td>1937</td>\n",
       "    </tr>\n",
       "    <tr>\n",
       "      <td>3</td>\n",
       "      <td>cologne</td>\n",
       "      <td>Acqua di Giò Pour Homme Eau de Toilette</td>\n",
       "      <td>88.00</td>\n",
       "      <td>1751</td>\n",
       "    </tr>\n",
       "    <tr>\n",
       "      <td>4</td>\n",
       "      <td>cologne</td>\n",
       "      <td>Emporio Armani Stronger With You Eau de Toilette</td>\n",
       "      <td>79.00</td>\n",
       "      <td>1623</td>\n",
       "    </tr>\n",
       "    <tr>\n",
       "      <td>5</td>\n",
       "      <td>body</td>\n",
       "      <td>Daily Moisturizing Lotion</td>\n",
       "      <td>7.49</td>\n",
       "      <td>1456</td>\n",
       "    </tr>\n",
       "    <tr>\n",
       "      <td>6</td>\n",
       "      <td>cologne</td>\n",
       "      <td>Armani Code Colonia Eau de Toilette</td>\n",
       "      <td>98.00</td>\n",
       "      <td>1444</td>\n",
       "    </tr>\n",
       "    <tr>\n",
       "      <td>7</td>\n",
       "      <td>hair</td>\n",
       "      <td>Scalp &amp; Hair Leave-In Treatement System 4 (Col...</td>\n",
       "      <td>19.50</td>\n",
       "      <td>1102</td>\n",
       "    </tr>\n",
       "    <tr>\n",
       "      <td>8</td>\n",
       "      <td>skincare</td>\n",
       "      <td>Active Moist</td>\n",
       "      <td>42.00</td>\n",
       "      <td>970</td>\n",
       "    </tr>\n",
       "    <tr>\n",
       "      <td>9</td>\n",
       "      <td>body</td>\n",
       "      <td>Eczema Therapy Moisturizing Cream</td>\n",
       "      <td>13.49</td>\n",
       "      <td>925</td>\n",
       "    </tr>\n",
       "  </tbody>\n",
       "</table>\n",
       "</div>"
      ],
      "text/plain": [
       "   category                                            product   price  \\\n",
       "0  skincare                              Special Cleansing Gel   39.00   \n",
       "1      hair                                 Drench Conditioner   40.00   \n",
       "2   cologne                  Acqua di Giò Absolu Eau de Parfum  100.00   \n",
       "3   cologne            Acqua di Giò Pour Homme Eau de Toilette   88.00   \n",
       "4   cologne   Emporio Armani Stronger With You Eau de Toilette   79.00   \n",
       "5     body                           Daily Moisturizing Lotion    7.49   \n",
       "6   cologne                Armani Code Colonia Eau de Toilette   98.00   \n",
       "7      hair  Scalp & Hair Leave-In Treatement System 4 (Col...   19.50   \n",
       "8  skincare                                       Active Moist   42.00   \n",
       "9     body                   Eczema Therapy Moisturizing Cream   13.49   \n",
       "\n",
       "   review_count  \n",
       "0          2252  \n",
       "1          2144  \n",
       "2          1937  \n",
       "3          1751  \n",
       "4          1623  \n",
       "5          1456  \n",
       "6          1444  \n",
       "7          1102  \n",
       "8           970  \n",
       "9           925  "
      ]
     },
     "execution_count": 34,
     "metadata": {},
     "output_type": "execute_result"
    }
   ],
   "source": [
    "df[['category','product','price','review_count']].sort_values(by=['review_count'],ascending= False).head(10)"
   ]
  },
  {
   "cell_type": "code",
   "execution_count": 35,
   "metadata": {},
   "outputs": [
    {
     "data": {
      "text/plain": [
       "<Figure size 1440x576 with 0 Axes>"
      ]
     },
     "execution_count": 35,
     "metadata": {},
     "output_type": "execute_result"
    },
    {
     "data": {
      "image/png": "[encoded data removed]",
      "text/plain": [
       "<Figure size 360x360 with 1 Axes>"
      ]
     },
     "metadata": {
      "needs_background": "light"
     },
     "output_type": "display_data"
    },
    {
     "data": {
      "text/plain": [
       "<Figure size 1440x576 with 0 Axes>"
      ]
     },
     "metadata": {},
     "output_type": "display_data"
    }
   ],
   "source": [
    "sns.lmplot(\"review_count\", \"review_avg_rating\", df)\n",
    "# critic_df.plot( kind ='scatter',x='num_critic_for_reviews', y='imdb_score')\n",
    "# plt.xlabel('Number of Critic for Reviews')\n",
    "# plt.ylabel('Imdb Scores')\n",
    "# plt.title('Number of Critics for Reviews vs Imdb Scores')\n",
    "#sns.lmplot(\"review_count\", \"price\", df)\n",
    "#sns.lmplot(\"price\", \"review_avg_rating\", df)\n",
    "plt.figure(figsize=(20,8))\n"
   ]
  },
  {
   "cell_type": "code",
   "execution_count": null,
   "metadata": {},
   "outputs": [],
   "source": [
    "sns.violinplot(x=\"review_count\", y=\"category\", hue=\"category\",data=df1,figsize=(16,6))"
   ]
  },
  {
   "cell_type": "code",
   "execution_count": null,
   "metadata": {},
   "outputs": [],
   "source": [
    "plt.figure(figsize=(16,6))\n",
    "df.groupby('brand')['review_count'].count().sort_values(ascending= False).head(10).plot.bar(color ='#000080')"
   ]
  },
  {
   "cell_type": "code",
   "execution_count": 27,
   "metadata": {},
   "outputs": [],
   "source": [
    "df4 =df[['category','brand','product','price','review_count', 'review_avg_rating']]\n",
    "#.groupby([df2.index.hour,'sleep_summary_id')"
   ]
  },
  {
   "cell_type": "markdown",
   "metadata": {},
   "source": [
    "Filter out observations with less than the median review count and review average rating"
   ]
  },
  {
   "cell_type": "code",
   "execution_count": 28,
   "metadata": {},
   "outputs": [
    {
     "data": {
      "text/plain": [
       "4.6"
      ]
     },
     "execution_count": 28,
     "metadata": {},
     "output_type": "execute_result"
    }
   ],
   "source": [
    "df4['review_avg_rating'].median()"
   ]
  },
  {
   "cell_type": "code",
   "execution_count": 29,
   "metadata": {},
   "outputs": [
    {
     "data": {
      "text/plain": [
       "10.0"
      ]
     },
     "execution_count": 29,
     "metadata": {},
     "output_type": "execute_result"
    }
   ],
   "source": [
    "df4['review_count'].median()"
   ]
  },
  {
   "cell_type": "code",
   "execution_count": 30,
   "metadata": {},
   "outputs": [
    {
     "data": {
      "text/html": [
       "<div>\n",
       "<style scoped>\n",
       "    .dataframe tbody tr th:only-of-type {\n",
       "        vertical-align: middle;\n",
       "    }\n",
       "\n",
       "    .dataframe tbody tr th {\n",
       "        vertical-align: top;\n",
       "    }\n",
       "\n",
       "    .dataframe thead th {\n",
       "        text-align: right;\n",
       "    }\n",
       "</style>\n",
       "<table border=\"1\" class=\"dataframe\">\n",
       "  <thead>\n",
       "    <tr style=\"text-align: right;\">\n",
       "      <th></th>\n",
       "      <th>category</th>\n",
       "      <th>brand</th>\n",
       "      <th>product</th>\n",
       "      <th>price</th>\n",
       "      <th>review_count</th>\n",
       "      <th>review_avg_rating</th>\n",
       "    </tr>\n",
       "  </thead>\n",
       "  <tbody>\n",
       "    <tr>\n",
       "      <td>0</td>\n",
       "      <td>skincare</td>\n",
       "      <td>Dermalogica</td>\n",
       "      <td>Special Cleansing Gel</td>\n",
       "      <td>39.00</td>\n",
       "      <td>2252</td>\n",
       "      <td>4.6</td>\n",
       "    </tr>\n",
       "    <tr>\n",
       "      <td>1</td>\n",
       "      <td>hair</td>\n",
       "      <td>Sebastian</td>\n",
       "      <td>Drench Conditioner</td>\n",
       "      <td>40.00</td>\n",
       "      <td>2144</td>\n",
       "      <td>4.6</td>\n",
       "    </tr>\n",
       "    <tr>\n",
       "      <td>2</td>\n",
       "      <td>cologne</td>\n",
       "      <td>Giorgio Armani</td>\n",
       "      <td>Acqua di Giò Absolu Eau de Parfum</td>\n",
       "      <td>100.00</td>\n",
       "      <td>1937</td>\n",
       "      <td>4.8</td>\n",
       "    </tr>\n",
       "    <tr>\n",
       "      <td>3</td>\n",
       "      <td>cologne</td>\n",
       "      <td>Giorgio Armani</td>\n",
       "      <td>Acqua di Giò Pour Homme Eau de Toilette</td>\n",
       "      <td>88.00</td>\n",
       "      <td>1751</td>\n",
       "      <td>4.8</td>\n",
       "    </tr>\n",
       "    <tr>\n",
       "      <td>4</td>\n",
       "      <td>cologne</td>\n",
       "      <td>Giorgio Armani</td>\n",
       "      <td>Emporio Armani Stronger With You Eau de Toilette</td>\n",
       "      <td>79.00</td>\n",
       "      <td>1623</td>\n",
       "      <td>4.7</td>\n",
       "    </tr>\n",
       "    <tr>\n",
       "      <td>...</td>\n",
       "      <td>...</td>\n",
       "      <td>...</td>\n",
       "      <td>...</td>\n",
       "      <td>...</td>\n",
       "      <td>...</td>\n",
       "      <td>...</td>\n",
       "    </tr>\n",
       "    <tr>\n",
       "      <td>513</td>\n",
       "      <td>hair</td>\n",
       "      <td>Thick Head</td>\n",
       "      <td>Clear Head Anti-Thinning 2-IN-1 Shampoo &amp; Cond...</td>\n",
       "      <td>10.00</td>\n",
       "      <td>1</td>\n",
       "      <td>5.0</td>\n",
       "    </tr>\n",
       "    <tr>\n",
       "      <td>514</td>\n",
       "      <td>shaving</td>\n",
       "      <td>Tigi</td>\n",
       "      <td>Bed Head For Men Fuel Around Beard Oil</td>\n",
       "      <td>16.95</td>\n",
       "      <td>1</td>\n",
       "      <td>5.0</td>\n",
       "    </tr>\n",
       "    <tr>\n",
       "      <td>515</td>\n",
       "      <td>shaving</td>\n",
       "      <td>Triumph &amp; Disaster</td>\n",
       "      <td>Old Fashioned Shave Cream Jar</td>\n",
       "      <td>14.97</td>\n",
       "      <td>1</td>\n",
       "      <td>5.0</td>\n",
       "    </tr>\n",
       "    <tr>\n",
       "      <td>516</td>\n",
       "      <td>skincare</td>\n",
       "      <td>Triumph &amp; Disaster</td>\n",
       "      <td>Gameface Moisturiser Jar</td>\n",
       "      <td>29.97</td>\n",
       "      <td>1</td>\n",
       "      <td>5.0</td>\n",
       "    </tr>\n",
       "    <tr>\n",
       "      <td>614</td>\n",
       "      <td>cologne</td>\n",
       "      <td>Burberry</td>\n",
       "      <td>Mr. Burberry Eau de Parfum</td>\n",
       "      <td>80.00</td>\n",
       "      <td>8</td>\n",
       "      <td>4.8</td>\n",
       "    </tr>\n",
       "  </tbody>\n",
       "</table>\n",
       "<p>329 rows × 6 columns</p>\n",
       "</div>"
      ],
      "text/plain": [
       "     category               brand  \\\n",
       "0    skincare         Dermalogica   \n",
       "1        hair           Sebastian   \n",
       "2     cologne      Giorgio Armani   \n",
       "3     cologne      Giorgio Armani   \n",
       "4     cologne      Giorgio Armani   \n",
       "..        ...                 ...   \n",
       "513      hair          Thick Head   \n",
       "514   shaving                Tigi   \n",
       "515   shaving  Triumph & Disaster   \n",
       "516  skincare  Triumph & Disaster   \n",
       "614   cologne            Burberry   \n",
       "\n",
       "                                               product   price  review_count  \\\n",
       "0                                Special Cleansing Gel   39.00          2252   \n",
       "1                                   Drench Conditioner   40.00          2144   \n",
       "2                    Acqua di Giò Absolu Eau de Parfum  100.00          1937   \n",
       "3              Acqua di Giò Pour Homme Eau de Toilette   88.00          1751   \n",
       "4     Emporio Armani Stronger With You Eau de Toilette   79.00          1623   \n",
       "..                                                 ...     ...           ...   \n",
       "513  Clear Head Anti-Thinning 2-IN-1 Shampoo & Cond...   10.00             1   \n",
       "514             Bed Head For Men Fuel Around Beard Oil   16.95             1   \n",
       "515                      Old Fashioned Shave Cream Jar   14.97             1   \n",
       "516                           Gameface Moisturiser Jar   29.97             1   \n",
       "614                         Mr. Burberry Eau de Parfum   80.00             8   \n",
       "\n",
       "     review_avg_rating  \n",
       "0                  4.6  \n",
       "1                  4.6  \n",
       "2                  4.8  \n",
       "3                  4.8  \n",
       "4                  4.7  \n",
       "..                 ...  \n",
       "513                5.0  \n",
       "514                5.0  \n",
       "515                5.0  \n",
       "516                5.0  \n",
       "614                4.8  \n",
       "\n",
       "[329 rows x 6 columns]"
      ]
     },
     "execution_count": 30,
     "metadata": {},
     "output_type": "execute_result"
    }
   ],
   "source": [
    "df5 =df4[df4['review_avg_rating']>=4.6 ]\n",
    "df5"
   ]
  },
  {
   "cell_type": "code",
   "execution_count": 36,
   "metadata": {
    "scrolled": true
   },
   "outputs": [
    {
     "data": {
      "text/html": [
       "<div>\n",
       "<style scoped>\n",
       "    .dataframe tbody tr th:only-of-type {\n",
       "        vertical-align: middle;\n",
       "    }\n",
       "\n",
       "    .dataframe tbody tr th {\n",
       "        vertical-align: top;\n",
       "    }\n",
       "\n",
       "    .dataframe thead th {\n",
       "        text-align: right;\n",
       "    }\n",
       "</style>\n",
       "<table border=\"1\" class=\"dataframe\">\n",
       "  <thead>\n",
       "    <tr style=\"text-align: right;\">\n",
       "      <th></th>\n",
       "      <th>category</th>\n",
       "      <th>brand</th>\n",
       "      <th>product</th>\n",
       "      <th>price</th>\n",
       "      <th>review_count</th>\n",
       "      <th>review_avg_rating</th>\n",
       "    </tr>\n",
       "  </thead>\n",
       "  <tbody>\n",
       "    <tr>\n",
       "      <td>0</td>\n",
       "      <td>skincare</td>\n",
       "      <td>Dermalogica</td>\n",
       "      <td>Special Cleansing Gel</td>\n",
       "      <td>39.00</td>\n",
       "      <td>2252</td>\n",
       "      <td>4.6</td>\n",
       "    </tr>\n",
       "    <tr>\n",
       "      <td>1</td>\n",
       "      <td>hair</td>\n",
       "      <td>Sebastian</td>\n",
       "      <td>Drench Conditioner</td>\n",
       "      <td>40.00</td>\n",
       "      <td>2144</td>\n",
       "      <td>4.6</td>\n",
       "    </tr>\n",
       "    <tr>\n",
       "      <td>2</td>\n",
       "      <td>cologne</td>\n",
       "      <td>Giorgio Armani</td>\n",
       "      <td>Acqua di Giò Absolu Eau de Parfum</td>\n",
       "      <td>100.00</td>\n",
       "      <td>1937</td>\n",
       "      <td>4.8</td>\n",
       "    </tr>\n",
       "    <tr>\n",
       "      <td>3</td>\n",
       "      <td>cologne</td>\n",
       "      <td>Giorgio Armani</td>\n",
       "      <td>Acqua di Giò Pour Homme Eau de Toilette</td>\n",
       "      <td>88.00</td>\n",
       "      <td>1751</td>\n",
       "      <td>4.8</td>\n",
       "    </tr>\n",
       "    <tr>\n",
       "      <td>4</td>\n",
       "      <td>cologne</td>\n",
       "      <td>Giorgio Armani</td>\n",
       "      <td>Emporio Armani Stronger With You Eau de Toilette</td>\n",
       "      <td>79.00</td>\n",
       "      <td>1623</td>\n",
       "      <td>4.7</td>\n",
       "    </tr>\n",
       "    <tr>\n",
       "      <td>...</td>\n",
       "      <td>...</td>\n",
       "      <td>...</td>\n",
       "      <td>...</td>\n",
       "      <td>...</td>\n",
       "      <td>...</td>\n",
       "      <td>...</td>\n",
       "    </tr>\n",
       "    <tr>\n",
       "      <td>299</td>\n",
       "      <td>shaving</td>\n",
       "      <td>SheaMoisture</td>\n",
       "      <td>Maracuja Oil &amp; Shea Butter Beard Balm</td>\n",
       "      <td>9.99</td>\n",
       "      <td>11</td>\n",
       "      <td>4.7</td>\n",
       "    </tr>\n",
       "    <tr>\n",
       "      <td>302</td>\n",
       "      <td>cologne</td>\n",
       "      <td>Coach</td>\n",
       "      <td>For Men Eau de Toilette Travel Spray</td>\n",
       "      <td>32.00</td>\n",
       "      <td>10</td>\n",
       "      <td>5.0</td>\n",
       "    </tr>\n",
       "    <tr>\n",
       "      <td>303</td>\n",
       "      <td>body</td>\n",
       "      <td>Baxter of California</td>\n",
       "      <td>Vitamin Cleansing Bar</td>\n",
       "      <td>18.00</td>\n",
       "      <td>10</td>\n",
       "      <td>4.8</td>\n",
       "    </tr>\n",
       "    <tr>\n",
       "      <td>304</td>\n",
       "      <td>cologne</td>\n",
       "      <td>Bvlgari</td>\n",
       "      <td>Man In Black Eau de Parfum</td>\n",
       "      <td>113.00</td>\n",
       "      <td>10</td>\n",
       "      <td>4.7</td>\n",
       "    </tr>\n",
       "    <tr>\n",
       "      <td>305</td>\n",
       "      <td>body</td>\n",
       "      <td>Duke Cannon Supply Co</td>\n",
       "      <td>Cold Shower Field Towels Face &amp; Body Wipes</td>\n",
       "      <td>9.99</td>\n",
       "      <td>10</td>\n",
       "      <td>4.6</td>\n",
       "    </tr>\n",
       "  </tbody>\n",
       "</table>\n",
       "<p>200 rows × 6 columns</p>\n",
       "</div>"
      ],
      "text/plain": [
       "     category                  brand  \\\n",
       "0    skincare            Dermalogica   \n",
       "1        hair              Sebastian   \n",
       "2     cologne         Giorgio Armani   \n",
       "3     cologne         Giorgio Armani   \n",
       "4     cologne         Giorgio Armani   \n",
       "..        ...                    ...   \n",
       "299   shaving           SheaMoisture   \n",
       "302   cologne                  Coach   \n",
       "303     body    Baxter of California   \n",
       "304   cologne                Bvlgari   \n",
       "305     body   Duke Cannon Supply Co   \n",
       "\n",
       "                                              product   price  review_count  \\\n",
       "0                               Special Cleansing Gel   39.00          2252   \n",
       "1                                  Drench Conditioner   40.00          2144   \n",
       "2                   Acqua di Giò Absolu Eau de Parfum  100.00          1937   \n",
       "3             Acqua di Giò Pour Homme Eau de Toilette   88.00          1751   \n",
       "4    Emporio Armani Stronger With You Eau de Toilette   79.00          1623   \n",
       "..                                                ...     ...           ...   \n",
       "299             Maracuja Oil & Shea Butter Beard Balm    9.99            11   \n",
       "302              For Men Eau de Toilette Travel Spray   32.00            10   \n",
       "303                             Vitamin Cleansing Bar   18.00            10   \n",
       "304                        Man In Black Eau de Parfum  113.00            10   \n",
       "305        Cold Shower Field Towels Face & Body Wipes    9.99            10   \n",
       "\n",
       "     review_avg_rating  \n",
       "0                  4.6  \n",
       "1                  4.6  \n",
       "2                  4.8  \n",
       "3                  4.8  \n",
       "4                  4.7  \n",
       "..                 ...  \n",
       "299                4.7  \n",
       "302                5.0  \n",
       "303                4.8  \n",
       "304                4.7  \n",
       "305                4.6  \n",
       "\n",
       "[200 rows x 6 columns]"
      ]
     },
     "execution_count": 36,
     "metadata": {},
     "output_type": "execute_result"
    }
   ],
   "source": [
    "df6= df5[df5['review_count']>=10]\n",
    "df6"
   ]
  },
  {
   "cell_type": "code",
   "execution_count": 40,
   "metadata": {},
   "outputs": [
    {
     "data": {
      "text/html": [
       "<div>\n",
       "<style scoped>\n",
       "    .dataframe tbody tr th:only-of-type {\n",
       "        vertical-align: middle;\n",
       "    }\n",
       "\n",
       "    .dataframe tbody tr th {\n",
       "        vertical-align: top;\n",
       "    }\n",
       "\n",
       "    .dataframe thead th {\n",
       "        text-align: right;\n",
       "    }\n",
       "</style>\n",
       "<table border=\"1\" class=\"dataframe\">\n",
       "  <thead>\n",
       "    <tr style=\"text-align: right;\">\n",
       "      <th></th>\n",
       "      <th>category</th>\n",
       "      <th>brand</th>\n",
       "      <th>product</th>\n",
       "      <th>price</th>\n",
       "      <th>review_count</th>\n",
       "      <th>review_avg_rating</th>\n",
       "    </tr>\n",
       "  </thead>\n",
       "  <tbody>\n",
       "    <tr>\n",
       "      <td>5</td>\n",
       "      <td>body</td>\n",
       "      <td>Aveeno</td>\n",
       "      <td>Daily Moisturizing Lotion</td>\n",
       "      <td>7.49</td>\n",
       "      <td>1456</td>\n",
       "      <td>4.7</td>\n",
       "    </tr>\n",
       "    <tr>\n",
       "      <td>9</td>\n",
       "      <td>body</td>\n",
       "      <td>Aveeno</td>\n",
       "      <td>Eczema Therapy Moisturizing Cream</td>\n",
       "      <td>13.49</td>\n",
       "      <td>925</td>\n",
       "      <td>4.8</td>\n",
       "    </tr>\n",
       "    <tr>\n",
       "      <td>10</td>\n",
       "      <td>body</td>\n",
       "      <td>Hempz</td>\n",
       "      <td>Original Herbal Body Moisturizer</td>\n",
       "      <td>23.00</td>\n",
       "      <td>852</td>\n",
       "      <td>4.8</td>\n",
       "    </tr>\n",
       "    <tr>\n",
       "      <td>11</td>\n",
       "      <td>body</td>\n",
       "      <td>Duke Cannon Supply Co</td>\n",
       "      <td>Big American Bourbon Soap</td>\n",
       "      <td>7.99</td>\n",
       "      <td>846</td>\n",
       "      <td>4.9</td>\n",
       "    </tr>\n",
       "    <tr>\n",
       "      <td>24</td>\n",
       "      <td>body</td>\n",
       "      <td>CeraVe</td>\n",
       "      <td>Moisturizing Cream For Normal To Dry Skin</td>\n",
       "      <td>18.99</td>\n",
       "      <td>433</td>\n",
       "      <td>4.7</td>\n",
       "    </tr>\n",
       "  </tbody>\n",
       "</table>\n",
       "</div>"
      ],
      "text/plain": [
       "   category                  brand                                    product  \\\n",
       "5     body                  Aveeno                  Daily Moisturizing Lotion   \n",
       "9     body                  Aveeno          Eczema Therapy Moisturizing Cream   \n",
       "10    body                   Hempz           Original Herbal Body Moisturizer   \n",
       "11    body   Duke Cannon Supply Co                  Big American Bourbon Soap   \n",
       "24    body                  CeraVe  Moisturizing Cream For Normal To Dry Skin   \n",
       "\n",
       "    price  review_count  review_avg_rating  \n",
       "5    7.49          1456                4.7  \n",
       "9   13.49           925                4.8  \n",
       "10  23.00           852                4.8  \n",
       "11   7.99           846                4.9  \n",
       "24  18.99           433                4.7  "
      ]
     },
     "execution_count": 40,
     "metadata": {},
     "output_type": "execute_result"
    }
   ],
   "source": [
    "# df7 =df6.sort_values(['review_avg_rating'], ascending= False).head(10)\n",
    "# df7\n",
    "#df6[df6['category'=='body']].sort_values('review_avg_rating',ascending =False).head(5)\n",
    "df7 = df6[df6['category']=='body '].sort_values('review_count',ascending =False).head(5)\n",
    "#df6[df6['category']].sort_values('review_avg_rating',ascending =False).head(10)\n",
    "df7"
   ]
  },
  {
   "cell_type": "code",
   "execution_count": 42,
   "metadata": {},
   "outputs": [
    {
     "data": {
      "text/html": [
       "<div>\n",
       "<style scoped>\n",
       "    .dataframe tbody tr th:only-of-type {\n",
       "        vertical-align: middle;\n",
       "    }\n",
       "\n",
       "    .dataframe tbody tr th {\n",
       "        vertical-align: top;\n",
       "    }\n",
       "\n",
       "    .dataframe thead th {\n",
       "        text-align: right;\n",
       "    }\n",
       "</style>\n",
       "<table border=\"1\" class=\"dataframe\">\n",
       "  <thead>\n",
       "    <tr style=\"text-align: right;\">\n",
       "      <th></th>\n",
       "      <th>category</th>\n",
       "      <th>brand</th>\n",
       "      <th>product</th>\n",
       "      <th>price</th>\n",
       "      <th>review_count</th>\n",
       "      <th>review_avg_rating</th>\n",
       "    </tr>\n",
       "  </thead>\n",
       "  <tbody>\n",
       "    <tr>\n",
       "      <td>30</td>\n",
       "      <td>shaving</td>\n",
       "      <td>Jack Black</td>\n",
       "      <td>Beard Oil</td>\n",
       "      <td>26.00</td>\n",
       "      <td>345</td>\n",
       "      <td>4.8</td>\n",
       "    </tr>\n",
       "    <tr>\n",
       "      <td>36</td>\n",
       "      <td>shaving</td>\n",
       "      <td>Jack Black</td>\n",
       "      <td>Beard Lube Conditioning Shave</td>\n",
       "      <td>35.00</td>\n",
       "      <td>297</td>\n",
       "      <td>4.9</td>\n",
       "    </tr>\n",
       "    <tr>\n",
       "      <td>46</td>\n",
       "      <td>shaving</td>\n",
       "      <td>Jack Black</td>\n",
       "      <td>Beard Wash</td>\n",
       "      <td>18.00</td>\n",
       "      <td>245</td>\n",
       "      <td>4.8</td>\n",
       "    </tr>\n",
       "    <tr>\n",
       "      <td>59</td>\n",
       "      <td>shaving</td>\n",
       "      <td>Tree Hut</td>\n",
       "      <td>Bare Moisturizing Shave Oil</td>\n",
       "      <td>11.99</td>\n",
       "      <td>191</td>\n",
       "      <td>4.8</td>\n",
       "    </tr>\n",
       "    <tr>\n",
       "      <td>60</td>\n",
       "      <td>shaving</td>\n",
       "      <td>Jack Black</td>\n",
       "      <td>Beard Grooming Kit</td>\n",
       "      <td>35.00</td>\n",
       "      <td>186</td>\n",
       "      <td>4.8</td>\n",
       "    </tr>\n",
       "  </tbody>\n",
       "</table>\n",
       "</div>"
      ],
      "text/plain": [
       "   category       brand                        product  price  review_count  \\\n",
       "30  shaving  Jack Black                      Beard Oil  26.00           345   \n",
       "36  shaving  Jack Black  Beard Lube Conditioning Shave  35.00           297   \n",
       "46  shaving  Jack Black                     Beard Wash  18.00           245   \n",
       "59  shaving    Tree Hut    Bare Moisturizing Shave Oil  11.99           191   \n",
       "60  shaving  Jack Black             Beard Grooming Kit  35.00           186   \n",
       "\n",
       "    review_avg_rating  \n",
       "30                4.8  \n",
       "36                4.9  \n",
       "46                4.8  \n",
       "59                4.8  \n",
       "60                4.8  "
      ]
     },
     "execution_count": 42,
     "metadata": {},
     "output_type": "execute_result"
    }
   ],
   "source": [
    "df10 = df6[df6['category']=='shaving'].sort_values('review_count',ascending =False).head(5)\n",
    "#df6[df6['category']].sort_values('review_avg_rating',ascending =False).head(10)\n",
    "df10"
   ]
  },
  {
   "cell_type": "code",
   "execution_count": 43,
   "metadata": {},
   "outputs": [
    {
     "data": {
      "text/html": [
       "<div>\n",
       "<style scoped>\n",
       "    .dataframe tbody tr th:only-of-type {\n",
       "        vertical-align: middle;\n",
       "    }\n",
       "\n",
       "    .dataframe tbody tr th {\n",
       "        vertical-align: top;\n",
       "    }\n",
       "\n",
       "    .dataframe thead th {\n",
       "        text-align: right;\n",
       "    }\n",
       "</style>\n",
       "<table border=\"1\" class=\"dataframe\">\n",
       "  <thead>\n",
       "    <tr style=\"text-align: right;\">\n",
       "      <th></th>\n",
       "      <th>category</th>\n",
       "      <th>brand</th>\n",
       "      <th>product</th>\n",
       "      <th>price</th>\n",
       "      <th>review_count</th>\n",
       "      <th>review_avg_rating</th>\n",
       "    </tr>\n",
       "  </thead>\n",
       "  <tbody>\n",
       "    <tr>\n",
       "      <td>0</td>\n",
       "      <td>skincare</td>\n",
       "      <td>Dermalogica</td>\n",
       "      <td>Special Cleansing Gel</td>\n",
       "      <td>39.0</td>\n",
       "      <td>2252</td>\n",
       "      <td>4.6</td>\n",
       "    </tr>\n",
       "    <tr>\n",
       "      <td>8</td>\n",
       "      <td>skincare</td>\n",
       "      <td>Dermalogica</td>\n",
       "      <td>Active Moist</td>\n",
       "      <td>42.0</td>\n",
       "      <td>970</td>\n",
       "      <td>4.6</td>\n",
       "    </tr>\n",
       "    <tr>\n",
       "      <td>18</td>\n",
       "      <td>skincare</td>\n",
       "      <td>Jack Black</td>\n",
       "      <td>Intense Therapy Lip Balm SPF 25</td>\n",
       "      <td>8.0</td>\n",
       "      <td>711</td>\n",
       "      <td>4.7</td>\n",
       "    </tr>\n",
       "    <tr>\n",
       "      <td>21</td>\n",
       "      <td>skincare</td>\n",
       "      <td>Clinique</td>\n",
       "      <td>Acne Solutions Cleansing Bar for Face &amp; Body</td>\n",
       "      <td>16.5</td>\n",
       "      <td>535</td>\n",
       "      <td>4.7</td>\n",
       "    </tr>\n",
       "    <tr>\n",
       "      <td>31</td>\n",
       "      <td>skincare</td>\n",
       "      <td>Jack Black</td>\n",
       "      <td>Turbo Wash Energizing Cleanser</td>\n",
       "      <td>23.0</td>\n",
       "      <td>319</td>\n",
       "      <td>4.9</td>\n",
       "    </tr>\n",
       "  </tbody>\n",
       "</table>\n",
       "</div>"
      ],
      "text/plain": [
       "    category        brand                                       product  \\\n",
       "0   skincare  Dermalogica                         Special Cleansing Gel   \n",
       "8   skincare  Dermalogica                                  Active Moist   \n",
       "18  skincare   Jack Black               Intense Therapy Lip Balm SPF 25   \n",
       "21  skincare     Clinique  Acne Solutions Cleansing Bar for Face & Body   \n",
       "31  skincare   Jack Black                Turbo Wash Energizing Cleanser   \n",
       "\n",
       "    price  review_count  review_avg_rating  \n",
       "0    39.0          2252                4.6  \n",
       "8    42.0           970                4.6  \n",
       "18    8.0           711                4.7  \n",
       "21   16.5           535                4.7  \n",
       "31   23.0           319                4.9  "
      ]
     },
     "execution_count": 43,
     "metadata": {},
     "output_type": "execute_result"
    }
   ],
   "source": [
    "df11 = df6[df6['category']=='skincare'].sort_values('review_count',ascending =False).head(5)\n",
    "#df6[df6['category']].sort_values('review_avg_rating',ascending =False).head(10)\n",
    "df11"
   ]
  },
  {
   "cell_type": "code",
   "execution_count": 44,
   "metadata": {},
   "outputs": [
    {
     "data": {
      "text/html": [
       "<div>\n",
       "<style scoped>\n",
       "    .dataframe tbody tr th:only-of-type {\n",
       "        vertical-align: middle;\n",
       "    }\n",
       "\n",
       "    .dataframe tbody tr th {\n",
       "        vertical-align: top;\n",
       "    }\n",
       "\n",
       "    .dataframe thead th {\n",
       "        text-align: right;\n",
       "    }\n",
       "</style>\n",
       "<table border=\"1\" class=\"dataframe\">\n",
       "  <thead>\n",
       "    <tr style=\"text-align: right;\">\n",
       "      <th></th>\n",
       "      <th>category</th>\n",
       "      <th>brand</th>\n",
       "      <th>product</th>\n",
       "      <th>price</th>\n",
       "      <th>review_count</th>\n",
       "      <th>review_avg_rating</th>\n",
       "    </tr>\n",
       "  </thead>\n",
       "  <tbody>\n",
       "    <tr>\n",
       "      <td>2</td>\n",
       "      <td>cologne</td>\n",
       "      <td>Giorgio Armani</td>\n",
       "      <td>Acqua di Giò Absolu Eau de Parfum</td>\n",
       "      <td>100.0</td>\n",
       "      <td>1937</td>\n",
       "      <td>4.8</td>\n",
       "    </tr>\n",
       "    <tr>\n",
       "      <td>3</td>\n",
       "      <td>cologne</td>\n",
       "      <td>Giorgio Armani</td>\n",
       "      <td>Acqua di Giò Pour Homme Eau de Toilette</td>\n",
       "      <td>88.0</td>\n",
       "      <td>1751</td>\n",
       "      <td>4.8</td>\n",
       "    </tr>\n",
       "    <tr>\n",
       "      <td>4</td>\n",
       "      <td>cologne</td>\n",
       "      <td>Giorgio Armani</td>\n",
       "      <td>Emporio Armani Stronger With You Eau de Toilette</td>\n",
       "      <td>79.0</td>\n",
       "      <td>1623</td>\n",
       "      <td>4.7</td>\n",
       "    </tr>\n",
       "    <tr>\n",
       "      <td>6</td>\n",
       "      <td>cologne</td>\n",
       "      <td>Giorgio Armani</td>\n",
       "      <td>Armani Code Colonia Eau de Toilette</td>\n",
       "      <td>98.0</td>\n",
       "      <td>1444</td>\n",
       "      <td>4.7</td>\n",
       "    </tr>\n",
       "    <tr>\n",
       "      <td>12</td>\n",
       "      <td>cologne</td>\n",
       "      <td>Ralph Lauren</td>\n",
       "      <td>Polo Red Rush Eau de Toilette</td>\n",
       "      <td>90.0</td>\n",
       "      <td>840</td>\n",
       "      <td>4.6</td>\n",
       "    </tr>\n",
       "  </tbody>\n",
       "</table>\n",
       "</div>"
      ],
      "text/plain": [
       "   category           brand                                           product  \\\n",
       "2   cologne  Giorgio Armani                 Acqua di Giò Absolu Eau de Parfum   \n",
       "3   cologne  Giorgio Armani           Acqua di Giò Pour Homme Eau de Toilette   \n",
       "4   cologne  Giorgio Armani  Emporio Armani Stronger With You Eau de Toilette   \n",
       "6   cologne  Giorgio Armani               Armani Code Colonia Eau de Toilette   \n",
       "12  cologne    Ralph Lauren                     Polo Red Rush Eau de Toilette   \n",
       "\n",
       "    price  review_count  review_avg_rating  \n",
       "2   100.0          1937                4.8  \n",
       "3    88.0          1751                4.8  \n",
       "4    79.0          1623                4.7  \n",
       "6    98.0          1444                4.7  \n",
       "12   90.0           840                4.6  "
      ]
     },
     "execution_count": 44,
     "metadata": {},
     "output_type": "execute_result"
    }
   ],
   "source": [
    "df12 = df6[df6['category']=='cologne'].sort_values('review_count',ascending =False).head(5)\n",
    "#df6[df6['category']].sort_values('review_avg_rating',ascending =False).head(10)\n",
    "df12"
   ]
  },
  {
   "cell_type": "code",
   "execution_count": 45,
   "metadata": {},
   "outputs": [
    {
     "data": {
      "text/html": [
       "<div>\n",
       "<style scoped>\n",
       "    .dataframe tbody tr th:only-of-type {\n",
       "        vertical-align: middle;\n",
       "    }\n",
       "\n",
       "    .dataframe tbody tr th {\n",
       "        vertical-align: top;\n",
       "    }\n",
       "\n",
       "    .dataframe thead th {\n",
       "        text-align: right;\n",
       "    }\n",
       "</style>\n",
       "<table border=\"1\" class=\"dataframe\">\n",
       "  <thead>\n",
       "    <tr style=\"text-align: right;\">\n",
       "      <th></th>\n",
       "      <th>category</th>\n",
       "      <th>brand</th>\n",
       "      <th>product</th>\n",
       "      <th>price</th>\n",
       "      <th>review_count</th>\n",
       "      <th>review_avg_rating</th>\n",
       "    </tr>\n",
       "  </thead>\n",
       "  <tbody>\n",
       "    <tr>\n",
       "      <td>1</td>\n",
       "      <td>hair</td>\n",
       "      <td>Sebastian</td>\n",
       "      <td>Drench Conditioner</td>\n",
       "      <td>40.0</td>\n",
       "      <td>2144</td>\n",
       "      <td>4.6</td>\n",
       "    </tr>\n",
       "    <tr>\n",
       "      <td>20</td>\n",
       "      <td>hair</td>\n",
       "      <td>Tigi</td>\n",
       "      <td>Bed Head for Men Matte Separation Workable Wax</td>\n",
       "      <td>19.5</td>\n",
       "      <td>548</td>\n",
       "      <td>4.6</td>\n",
       "    </tr>\n",
       "    <tr>\n",
       "      <td>40</td>\n",
       "      <td>hair</td>\n",
       "      <td>Sebastian</td>\n",
       "      <td>Drench Shampoo</td>\n",
       "      <td>38.0</td>\n",
       "      <td>278</td>\n",
       "      <td>4.6</td>\n",
       "    </tr>\n",
       "    <tr>\n",
       "      <td>41</td>\n",
       "      <td>hair</td>\n",
       "      <td>Jack Black</td>\n",
       "      <td>All-Over Wash</td>\n",
       "      <td>50.0</td>\n",
       "      <td>274</td>\n",
       "      <td>4.8</td>\n",
       "    </tr>\n",
       "    <tr>\n",
       "      <td>63</td>\n",
       "      <td>hair</td>\n",
       "      <td>Sebastian</td>\n",
       "      <td>SEB MAN The Multitasker Hair, Beard &amp; Body Wash</td>\n",
       "      <td>14.5</td>\n",
       "      <td>178</td>\n",
       "      <td>4.9</td>\n",
       "    </tr>\n",
       "  </tbody>\n",
       "</table>\n",
       "</div>"
      ],
      "text/plain": [
       "   category       brand                                          product  \\\n",
       "1      hair   Sebastian                               Drench Conditioner   \n",
       "20     hair        Tigi   Bed Head for Men Matte Separation Workable Wax   \n",
       "40     hair   Sebastian                                   Drench Shampoo   \n",
       "41     hair  Jack Black                                    All-Over Wash   \n",
       "63     hair   Sebastian  SEB MAN The Multitasker Hair, Beard & Body Wash   \n",
       "\n",
       "    price  review_count  review_avg_rating  \n",
       "1    40.0          2144                4.6  \n",
       "20   19.5           548                4.6  \n",
       "40   38.0           278                4.6  \n",
       "41   50.0           274                4.8  \n",
       "63   14.5           178                4.9  "
      ]
     },
     "execution_count": 45,
     "metadata": {},
     "output_type": "execute_result"
    }
   ],
   "source": [
    "df13 = df6[df6['category']=='hair'].sort_values('review_count',ascending =False).head(5)\n",
    "#df6[df6['category']].sort_values('review_avg_rating',ascending =False).head(10)\n",
    "df13"
   ]
  },
  {
   "cell_type": "code",
   "execution_count": null,
   "metadata": {},
   "outputs": [],
   "source": [
    "#df6[df6['category']=='body ']"
   ]
  },
  {
   "cell_type": "code",
   "execution_count": 41,
   "metadata": {},
   "outputs": [
    {
     "data": {
      "text/plain": [
       "[Text(0, 0, 'Daily Moisturizing Lotion'),\n",
       " Text(0, 0, 'Eczema Therapy Moisturizing Cream'),\n",
       " Text(0, 0, 'Original Herbal Body Moisturizer'),\n",
       " Text(0, 0, 'Big American Bourbon Soap'),\n",
       " Text(0, 0, 'Moisturizing Cream For Normal To Dry Skin')]"
      ]
     },
     "execution_count": 41,
     "metadata": {},
     "output_type": "execute_result"
    },
    {
     "data": {
      "image/png": "[encoded data removed]",
      "text/plain": [
       "<Figure size 864x288 with 1 Axes>"
      ]
     },
     "metadata": {
      "needs_background": "light"
     },
     "output_type": "display_data"
    }
   ],
   "source": [
    "plt.figure(figsize=(12,4))\n",
    "m  =sns.barplot(x=\"product\",\n",
    "y=\"review_count\",\n",
    "            hue=\"brand\",\n",
    "data=df7, dodge = False)\n",
    "plt.title('Top Bodycare Products \\n (by review counts and average rating)')\n",
    "\n",
    "m\n",
    "m.set_xticklabels(m.get_xticklabels(), rotation=55)"
   ]
  },
  {
   "cell_type": "code",
   "execution_count": 46,
   "metadata": {},
   "outputs": [
    {
     "data": {
      "text/plain": [
       "[Text(0, 0, 'Beard Oil'),\n",
       " Text(0, 0, 'Beard Lube Conditioning Shave'),\n",
       " Text(0, 0, 'Beard Wash'),\n",
       " Text(0, 0, 'Bare Moisturizing Shave Oil'),\n",
       " Text(0, 0, 'Beard Grooming Kit')]"
      ]
     },
     "execution_count": 46,
     "metadata": {},
     "output_type": "execute_result"
    },
    {
     "data": {
      "image/png": "[encoded data removed]",
      "text/plain": [
       "<Figure size 864x288 with 1 Axes>"
      ]
     },
     "metadata": {
      "needs_background": "light"
     },
     "output_type": "display_data"
    }
   ],
   "source": [
    "plt.figure(figsize=(12,4))\n",
    "m  =sns.barplot(x=\"product\",\n",
    "y=\"review_count\",\n",
    "            hue=\"brand\",\n",
    "data=df10, dodge = False)\n",
    "plt.title('Top Shaving Products \\n (by review counts and average rating)')\n",
    "\n",
    "m\n",
    "m.set_xticklabels(m.get_xticklabels(), rotation=55)"
   ]
  },
  {
   "cell_type": "code",
   "execution_count": 47,
   "metadata": {},
   "outputs": [
    {
     "data": {
      "text/plain": [
       "[Text(0, 0, 'Special Cleansing Gel'),\n",
       " Text(0, 0, 'Active Moist'),\n",
       " Text(0, 0, 'Intense Therapy Lip Balm SPF 25'),\n",
       " Text(0, 0, 'Acne Solutions Cleansing Bar for Face & Body'),\n",
       " Text(0, 0, 'Turbo Wash Energizing Cleanser')]"
      ]
     },
     "execution_count": 47,
     "metadata": {},
     "output_type": "execute_result"
    },
    {
     "data": {
      "image/png": "[encoded data removed]",
      "text/plain": [
       "<Figure size 864x288 with 1 Axes>"
      ]
     },
     "metadata": {
      "needs_background": "light"
     },
     "output_type": "display_data"
    }
   ],
   "source": [
    "plt.figure(figsize=(12,4))\n",
    "m  =sns.barplot(x=\"product\",\n",
    "y=\"review_count\",\n",
    "            hue=\"brand\",\n",
    "data=df11, dodge = False)\n",
    "plt.title('Top Skincare Products \\n (by review counts and average rating)')\n",
    "\n",
    "m\n",
    "m.set_xticklabels(m.get_xticklabels(), rotation=55)"
   ]
  },
  {
   "cell_type": "code",
   "execution_count": 48,
   "metadata": {},
   "outputs": [
    {
     "data": {
      "text/plain": [
       "[Text(0, 0, 'Acqua di Giò Absolu Eau de Parfum'),\n",
       " Text(0, 0, 'Acqua di Giò Pour Homme Eau de Toilette'),\n",
       " Text(0, 0, 'Emporio Armani Stronger With You Eau de Toilette'),\n",
       " Text(0, 0, 'Armani Code Colonia Eau de Toilette'),\n",
       " Text(0, 0, 'Polo Red Rush Eau de Toilette')]"
      ]
     },
     "execution_count": 48,
     "metadata": {},
     "output_type": "execute_result"
    },
    {
     "data": {
      "image/png": "[encoded data removed]",
      "text/plain": [
       "<Figure size 864x288 with 1 Axes>"
      ]
     },
     "metadata": {
      "needs_background": "light"
     },
     "output_type": "display_data"
    }
   ],
   "source": [
    "plt.figure(figsize=(12,4))\n",
    "m  =sns.barplot(x=\"product\",\n",
    "y=\"review_count\",\n",
    "            hue=\"brand\",\n",
    "data=df12, dodge = False)\n",
    "plt.title('Top Cologne \\n (by review counts and average rating)')\n",
    "\n",
    "m\n",
    "m.set_xticklabels(m.get_xticklabels(), rotation=55)"
   ]
  },
  {
   "cell_type": "code",
   "execution_count": 49,
   "metadata": {},
   "outputs": [
    {
     "data": {
      "text/plain": [
       "[Text(0, 0, 'Drench Conditioner'),\n",
       " Text(0, 0, 'Bed Head for Men Matte Separation Workable Wax'),\n",
       " Text(0, 0, 'Drench Shampoo'),\n",
       " Text(0, 0, 'All-Over Wash'),\n",
       " Text(0, 0, 'SEB MAN The Multitasker Hair, Beard & Body Wash')]"
      ]
     },
     "execution_count": 49,
     "metadata": {},
     "output_type": "execute_result"
    },
    {
     "data": {
      "image/png": "[encoded data removed]",
      "text/plain": [
       "<Figure size 864x288 with 1 Axes>"
      ]
     },
     "metadata": {
      "needs_background": "light"
     },
     "output_type": "display_data"
    }
   ],
   "source": [
    "plt.figure(figsize=(12,4))\n",
    "m  =sns.barplot(x=\"product\",\n",
    "y=\"review_count\",\n",
    "            hue=\"brand\",\n",
    "data=df13, dodge = False)\n",
    "plt.title('Top Haircare Products \\n (by review counts and average rating)')\n",
    "\n",
    "m\n",
    "m.set_xticklabels(m.get_xticklabels(), rotation=55)"
   ]
  },
  {
   "cell_type": "code",
   "execution_count": null,
   "metadata": {},
   "outputs": [],
   "source": [
    "\n",
    "# #Utilise matplotlib to scale our goal numbers between the min and max, then assign this scale to our values.\n",
    "# norm = matplotlib.colors.Normalize(vmin=min(df7['review_avg_rating']), vmax=max(df7['review_avg_rating']))\n",
    "# colors = [matplotlib.cm.Blues(norm(value)) for value in df7['review_avg_rating']]\n",
    "\n",
    "# #Use squarify to plot our data, label it and add colours. We add an alpha layer to ensure black labels show through\n",
    "# squarify.plot(label=df7['brand'],sizes=df7['review_avg_rating'], color = colors, alpha=.8)\n",
    "# plt.title(\"Best Skincare Products\",fontsize=23,fontweight=\"bold\")\n",
    "# plt.figure(figsize=(16,9))\n",
    "\n",
    "# #Remove our axes and display the plot\n",
    "\n",
    "# # Invert Y-Axis\n",
    "# #plt.gca().invert_yaxis()\n",
    "# plt.show()"
   ]
  },
  {
   "cell_type": "code",
   "execution_count": null,
   "metadata": {},
   "outputs": [],
   "source": [
    "# df8 = df6[df6['category']=='body'].sort_values('review_count',ascending =False).head(5)\n",
    "# df8"
   ]
  },
  {
   "cell_type": "code",
   "execution_count": 51,
   "metadata": {},
   "outputs": [
    {
     "data": {
      "text/plain": [
       "<Figure size 1152x576 with 0 Axes>"
      ]
     },
     "execution_count": 51,
     "metadata": {},
     "output_type": "execute_result"
    },
    {
     "data": {
      "image/png": "[encoded data removed]",
      "text/plain": [
       "<Figure size 432x288 with 1 Axes>"
      ]
     },
     "metadata": {
      "needs_background": "light"
     },
     "output_type": "display_data"
    },
    {
     "data": {
      "text/plain": [
       "<Figure size 1152x576 with 0 Axes>"
      ]
     },
     "metadata": {},
     "output_type": "display_data"
    }
   ],
   "source": [
    "sns.boxplot(x='category', y='review_count', data=df6)\n",
    "plt.figure(figsize=(16,8))"
   ]
  },
  {
   "cell_type": "code",
   "execution_count": null,
   "metadata": {},
   "outputs": [],
   "source": [
    "df9 = df6[df6['category']=='shaving'].sort_values('review_avg_rating',ascending =False).head(5)\n",
    "df9"
   ]
  },
  {
   "cell_type": "code",
   "execution_count": null,
   "metadata": {},
   "outputs": [],
   "source": [
    "plt.figure(figsize=(10,4))\n",
    "df.groupby('category')['price'].median().sort_values(ascending= True).head(5).plot.barh(color ='#000080' )\n",
    "plt.title('Median Price by Category')\n",
    "plt.xlabel('Median Price')"
   ]
  }
 ],
 "metadata": {
  "kernelspec": {
   "display_name": "Python 3",
   "language": "python",
   "name": "python3"
  },
  "language_info": {
   "codemirror_mode": {
    "name": "ipython",
    "version": 3
   },
   "file_extension": ".py",
   "mimetype": "text/x-python",
   "name": "python",
   "nbconvert_exporter": "python",
   "pygments_lexer": "ipython3",
   "version": "3.7.4"
  }
 },
 "nbformat": 4,
 "nbformat_minor": 2
}
